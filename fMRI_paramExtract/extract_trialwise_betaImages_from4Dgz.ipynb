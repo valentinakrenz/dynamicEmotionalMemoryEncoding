{
 "cells": [
  {
   "cell_type": "markdown",
   "id": "0286a111",
   "metadata": {},
   "source": [
    "# extract beta files from 4D .nii.gz format"
   ]
  },
  {
   "cell_type": "markdown",
   "id": "114f9f1d",
   "metadata": {},
   "source": [
    "extract individual, trial-wise beta files and save them in trialwiseGLM subfolder within each subjects firstlevel folder"
   ]
  },
  {
   "cell_type": "code",
   "execution_count": 1,
   "id": "3bd5737d",
   "metadata": {},
   "outputs": [],
   "source": [
    "import nibabel as nib\n",
    "import numpy as np\n",
    "import os"
   ]
  },
  {
   "cell_type": "code",
   "execution_count": null,
   "id": "01a1e3ca",
   "metadata": {},
   "outputs": [],
   "source": [
    "# base path where the processed subject folders are located\n",
    "processed_base_path = YOURPATH + '/processed'"
   ]
  },
  {
   "cell_type": "code",
   "execution_count": null,
   "id": "2c3b18a4",
   "metadata": {},
   "outputs": [],
   "source": [
    "# list with all subjects in folder\n",
    "subject_folders = [f for f in os.listdir(processed_base_path) if f.startswith('sj-')]\n",
    "\n",
    "for subject_folder in subject_folders:\n",
    "    # Path to the subject's 4D NIfTI file\n",
    "    subject_path = os.path.join(processed_base_path, subject_folder, 'firstlevel')\n",
    "    nii_gz_file_path = os.path.join(subject_path, f\"{subject_folder}_beta.nii.gz\")\n",
    "\n",
    "    # Check if the 4D NIfTI file exists\n",
    "    if os.path.exists(nii_gz_file_path):\n",
    "        # Load the 4D NIfTI file\n",
    "        nii_img = nib.load(nii_gz_file_path)\n",
    "\n",
    "        # Extract the 4D data array\n",
    "        data = nii_img.get_fdata()\n",
    "\n",
    "        # Get the affine matrix for the NIfTI file\n",
    "        affine = nii_img.affine\n",
    "\n",
    "        # Loop through each volume (4th dimension)\n",
    "        for i in range(data.shape[-1]):\n",
    "            # Extract the 3D data for the current volume\n",
    "            volume_data = data[..., i]\n",
    "\n",
    "            # Create a new NIfTI image for the 3D volume\n",
    "            volume_img = nib.Nifti1Image(volume_data, affine)\n",
    "\n",
    "            # Define the output file path for the 3D volume\n",
    "            output_file_path = os.path.join(subject_path, 'trialwiseGLM', f\"beta_{str(i+1).zfill(4)}.nii\")\n",
    "\n",
    "            # Save the 3D NIfTI file\n",
    "            nib.save(volume_img, output_file_path)\n",
    "\n",
    "        print(f\"Extracted all volumes for {subject_folder}\")\n",
    "    else:\n",
    "        print(f\"No 4D NIfTI file found for {subject_folder}\")\n",
    "\n",
    "print(\"Done extracting volumes for all subjects.\")"
   ]
  }
 ],
 "metadata": {
  "kernelspec": {
   "display_name": "Python 3 (ipykernel)",
   "language": "python",
   "name": "python3"
  },
  "language_info": {
   "codemirror_mode": {
    "name": "ipython",
    "version": 3
   },
   "file_extension": ".py",
   "mimetype": "text/x-python",
   "name": "python",
   "nbconvert_exporter": "python",
   "pygments_lexer": "ipython3",
   "version": "3.7.13"
  }
 },
 "nbformat": 4,
 "nbformat_minor": 5
}
